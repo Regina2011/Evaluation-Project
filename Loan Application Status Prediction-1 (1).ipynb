{
 "cells": [
  {
   "cell_type": "markdown",
   "id": "65b9437b",
   "metadata": {},
   "source": [
    "# Loan Application Status Prediction"
   ]
  },
  {
   "cell_type": "markdown",
   "id": "bae03621",
   "metadata": {},
   "source": [
    "Problem Statement: This dataset includes details of applicants who have applied for loan. The dataset includes details like credit history, loan amount, their income, dependents etc.\n",
    "\n",
    "Independent Variables:\n",
    "\n",
    "Loan_ID\n",
    "\n",
    "Gender\n",
    "\n",
    "Married\n",
    "\n",
    "Dependents\n",
    "\n",
    "Education\n",
    "\n",
    "Self_Employed\n",
    "\n",
    "ApplicantIncome\n",
    "\n",
    "CoapplicantIncome\n",
    "\n",
    "Loan_Amount\n",
    "\n",
    "Loan_Amount_Term\n",
    "\n",
    "Credit History\n",
    "\n",
    "Property_Area\n",
    "\n",
    "Dependent Variable (Target Variable):\n",
    "\n",
    "Loan_Status\n",
    "You have to build a model that can predict whether the loan of the applicant will be approved or not on the basis of the details provided in the dataset."
   ]
  },
  {
   "cell_type": "code",
   "execution_count": 2,
   "id": "72985671",
   "metadata": {},
   "outputs": [],
   "source": [
    "import pandas as pd\n",
    "import numpy as np\n",
    "import matplotlib.pyplot as plt\n",
    "import seaborn as sns\n",
    "import warnings\n",
    "warnings.filterwarnings('ignore')"
   ]
  },
  {
   "cell_type": "code",
   "execution_count": 3,
   "id": "43d0f1fd",
   "metadata": {},
   "outputs": [],
   "source": [
    "df=pd.read_csv(\"https://raw.githubusercontent.com/dsrscientist/DSData/master/loan_prediction.csv\")"
   ]
  },
  {
   "cell_type": "code",
   "execution_count": 4,
   "id": "5e56ced1",
   "metadata": {},
   "outputs": [
    {
     "data": {
      "text/html": [
       "<div>\n",
       "<style scoped>\n",
       "    .dataframe tbody tr th:only-of-type {\n",
       "        vertical-align: middle;\n",
       "    }\n",
       "\n",
       "    .dataframe tbody tr th {\n",
       "        vertical-align: top;\n",
       "    }\n",
       "\n",
       "    .dataframe thead th {\n",
       "        text-align: right;\n",
       "    }\n",
       "</style>\n",
       "<table border=\"1\" class=\"dataframe\">\n",
       "  <thead>\n",
       "    <tr style=\"text-align: right;\">\n",
       "      <th></th>\n",
       "      <th>Loan_ID</th>\n",
       "      <th>Gender</th>\n",
       "      <th>Married</th>\n",
       "      <th>Dependents</th>\n",
       "      <th>Education</th>\n",
       "      <th>Self_Employed</th>\n",
       "      <th>ApplicantIncome</th>\n",
       "      <th>CoapplicantIncome</th>\n",
       "      <th>LoanAmount</th>\n",
       "      <th>Loan_Amount_Term</th>\n",
       "      <th>Credit_History</th>\n",
       "      <th>Property_Area</th>\n",
       "      <th>Loan_Status</th>\n",
       "    </tr>\n",
       "  </thead>\n",
       "  <tbody>\n",
       "    <tr>\n",
       "      <th>0</th>\n",
       "      <td>LP001002</td>\n",
       "      <td>Male</td>\n",
       "      <td>No</td>\n",
       "      <td>0</td>\n",
       "      <td>Graduate</td>\n",
       "      <td>No</td>\n",
       "      <td>5849</td>\n",
       "      <td>0.0</td>\n",
       "      <td>NaN</td>\n",
       "      <td>360.0</td>\n",
       "      <td>1.0</td>\n",
       "      <td>Urban</td>\n",
       "      <td>Y</td>\n",
       "    </tr>\n",
       "    <tr>\n",
       "      <th>1</th>\n",
       "      <td>LP001003</td>\n",
       "      <td>Male</td>\n",
       "      <td>Yes</td>\n",
       "      <td>1</td>\n",
       "      <td>Graduate</td>\n",
       "      <td>No</td>\n",
       "      <td>4583</td>\n",
       "      <td>1508.0</td>\n",
       "      <td>128.0</td>\n",
       "      <td>360.0</td>\n",
       "      <td>1.0</td>\n",
       "      <td>Rural</td>\n",
       "      <td>N</td>\n",
       "    </tr>\n",
       "    <tr>\n",
       "      <th>2</th>\n",
       "      <td>LP001005</td>\n",
       "      <td>Male</td>\n",
       "      <td>Yes</td>\n",
       "      <td>0</td>\n",
       "      <td>Graduate</td>\n",
       "      <td>Yes</td>\n",
       "      <td>3000</td>\n",
       "      <td>0.0</td>\n",
       "      <td>66.0</td>\n",
       "      <td>360.0</td>\n",
       "      <td>1.0</td>\n",
       "      <td>Urban</td>\n",
       "      <td>Y</td>\n",
       "    </tr>\n",
       "    <tr>\n",
       "      <th>3</th>\n",
       "      <td>LP001006</td>\n",
       "      <td>Male</td>\n",
       "      <td>Yes</td>\n",
       "      <td>0</td>\n",
       "      <td>Not Graduate</td>\n",
       "      <td>No</td>\n",
       "      <td>2583</td>\n",
       "      <td>2358.0</td>\n",
       "      <td>120.0</td>\n",
       "      <td>360.0</td>\n",
       "      <td>1.0</td>\n",
       "      <td>Urban</td>\n",
       "      <td>Y</td>\n",
       "    </tr>\n",
       "    <tr>\n",
       "      <th>4</th>\n",
       "      <td>LP001008</td>\n",
       "      <td>Male</td>\n",
       "      <td>No</td>\n",
       "      <td>0</td>\n",
       "      <td>Graduate</td>\n",
       "      <td>No</td>\n",
       "      <td>6000</td>\n",
       "      <td>0.0</td>\n",
       "      <td>141.0</td>\n",
       "      <td>360.0</td>\n",
       "      <td>1.0</td>\n",
       "      <td>Urban</td>\n",
       "      <td>Y</td>\n",
       "    </tr>\n",
       "  </tbody>\n",
       "</table>\n",
       "</div>"
      ],
      "text/plain": [
       "    Loan_ID Gender Married Dependents     Education Self_Employed  \\\n",
       "0  LP001002   Male      No          0      Graduate            No   \n",
       "1  LP001003   Male     Yes          1      Graduate            No   \n",
       "2  LP001005   Male     Yes          0      Graduate           Yes   \n",
       "3  LP001006   Male     Yes          0  Not Graduate            No   \n",
       "4  LP001008   Male      No          0      Graduate            No   \n",
       "\n",
       "   ApplicantIncome  CoapplicantIncome  LoanAmount  Loan_Amount_Term  \\\n",
       "0             5849                0.0         NaN             360.0   \n",
       "1             4583             1508.0       128.0             360.0   \n",
       "2             3000                0.0        66.0             360.0   \n",
       "3             2583             2358.0       120.0             360.0   \n",
       "4             6000                0.0       141.0             360.0   \n",
       "\n",
       "   Credit_History Property_Area Loan_Status  \n",
       "0             1.0         Urban           Y  \n",
       "1             1.0         Rural           N  \n",
       "2             1.0         Urban           Y  \n",
       "3             1.0         Urban           Y  \n",
       "4             1.0         Urban           Y  "
      ]
     },
     "execution_count": 4,
     "metadata": {},
     "output_type": "execute_result"
    }
   ],
   "source": [
    "df.head()"
   ]
  },
  {
   "cell_type": "code",
   "execution_count": 5,
   "id": "08944c4c",
   "metadata": {},
   "outputs": [
    {
     "data": {
      "text/html": [
       "<div>\n",
       "<style scoped>\n",
       "    .dataframe tbody tr th:only-of-type {\n",
       "        vertical-align: middle;\n",
       "    }\n",
       "\n",
       "    .dataframe tbody tr th {\n",
       "        vertical-align: top;\n",
       "    }\n",
       "\n",
       "    .dataframe thead th {\n",
       "        text-align: right;\n",
       "    }\n",
       "</style>\n",
       "<table border=\"1\" class=\"dataframe\">\n",
       "  <thead>\n",
       "    <tr style=\"text-align: right;\">\n",
       "      <th></th>\n",
       "      <th>Loan_ID</th>\n",
       "      <th>Gender</th>\n",
       "      <th>Married</th>\n",
       "      <th>Dependents</th>\n",
       "      <th>Education</th>\n",
       "      <th>Self_Employed</th>\n",
       "      <th>ApplicantIncome</th>\n",
       "      <th>CoapplicantIncome</th>\n",
       "      <th>LoanAmount</th>\n",
       "      <th>Loan_Amount_Term</th>\n",
       "      <th>Credit_History</th>\n",
       "      <th>Property_Area</th>\n",
       "      <th>Loan_Status</th>\n",
       "    </tr>\n",
       "  </thead>\n",
       "  <tbody>\n",
       "    <tr>\n",
       "      <th>609</th>\n",
       "      <td>LP002978</td>\n",
       "      <td>Female</td>\n",
       "      <td>No</td>\n",
       "      <td>0</td>\n",
       "      <td>Graduate</td>\n",
       "      <td>No</td>\n",
       "      <td>2900</td>\n",
       "      <td>0.0</td>\n",
       "      <td>71.0</td>\n",
       "      <td>360.0</td>\n",
       "      <td>1.0</td>\n",
       "      <td>Rural</td>\n",
       "      <td>Y</td>\n",
       "    </tr>\n",
       "    <tr>\n",
       "      <th>610</th>\n",
       "      <td>LP002979</td>\n",
       "      <td>Male</td>\n",
       "      <td>Yes</td>\n",
       "      <td>3+</td>\n",
       "      <td>Graduate</td>\n",
       "      <td>No</td>\n",
       "      <td>4106</td>\n",
       "      <td>0.0</td>\n",
       "      <td>40.0</td>\n",
       "      <td>180.0</td>\n",
       "      <td>1.0</td>\n",
       "      <td>Rural</td>\n",
       "      <td>Y</td>\n",
       "    </tr>\n",
       "    <tr>\n",
       "      <th>611</th>\n",
       "      <td>LP002983</td>\n",
       "      <td>Male</td>\n",
       "      <td>Yes</td>\n",
       "      <td>1</td>\n",
       "      <td>Graduate</td>\n",
       "      <td>No</td>\n",
       "      <td>8072</td>\n",
       "      <td>240.0</td>\n",
       "      <td>253.0</td>\n",
       "      <td>360.0</td>\n",
       "      <td>1.0</td>\n",
       "      <td>Urban</td>\n",
       "      <td>Y</td>\n",
       "    </tr>\n",
       "    <tr>\n",
       "      <th>612</th>\n",
       "      <td>LP002984</td>\n",
       "      <td>Male</td>\n",
       "      <td>Yes</td>\n",
       "      <td>2</td>\n",
       "      <td>Graduate</td>\n",
       "      <td>No</td>\n",
       "      <td>7583</td>\n",
       "      <td>0.0</td>\n",
       "      <td>187.0</td>\n",
       "      <td>360.0</td>\n",
       "      <td>1.0</td>\n",
       "      <td>Urban</td>\n",
       "      <td>Y</td>\n",
       "    </tr>\n",
       "    <tr>\n",
       "      <th>613</th>\n",
       "      <td>LP002990</td>\n",
       "      <td>Female</td>\n",
       "      <td>No</td>\n",
       "      <td>0</td>\n",
       "      <td>Graduate</td>\n",
       "      <td>Yes</td>\n",
       "      <td>4583</td>\n",
       "      <td>0.0</td>\n",
       "      <td>133.0</td>\n",
       "      <td>360.0</td>\n",
       "      <td>0.0</td>\n",
       "      <td>Semiurban</td>\n",
       "      <td>N</td>\n",
       "    </tr>\n",
       "  </tbody>\n",
       "</table>\n",
       "</div>"
      ],
      "text/plain": [
       "      Loan_ID  Gender Married Dependents Education Self_Employed  \\\n",
       "609  LP002978  Female      No          0  Graduate            No   \n",
       "610  LP002979    Male     Yes         3+  Graduate            No   \n",
       "611  LP002983    Male     Yes          1  Graduate            No   \n",
       "612  LP002984    Male     Yes          2  Graduate            No   \n",
       "613  LP002990  Female      No          0  Graduate           Yes   \n",
       "\n",
       "     ApplicantIncome  CoapplicantIncome  LoanAmount  Loan_Amount_Term  \\\n",
       "609             2900                0.0        71.0             360.0   \n",
       "610             4106                0.0        40.0             180.0   \n",
       "611             8072              240.0       253.0             360.0   \n",
       "612             7583                0.0       187.0             360.0   \n",
       "613             4583                0.0       133.0             360.0   \n",
       "\n",
       "     Credit_History Property_Area Loan_Status  \n",
       "609             1.0         Rural           Y  \n",
       "610             1.0         Rural           Y  \n",
       "611             1.0         Urban           Y  \n",
       "612             1.0         Urban           Y  \n",
       "613             0.0     Semiurban           N  "
      ]
     },
     "execution_count": 5,
     "metadata": {},
     "output_type": "execute_result"
    }
   ],
   "source": [
    "df.tail()"
   ]
  },
  {
   "cell_type": "code",
   "execution_count": 7,
   "id": "5dd4b67a",
   "metadata": {},
   "outputs": [
    {
     "data": {
      "text/plain": [
       "(614, 13)"
      ]
     },
     "execution_count": 7,
     "metadata": {},
     "output_type": "execute_result"
    }
   ],
   "source": [
    "df.shape # total 614 rows and 13 columns"
   ]
  },
  {
   "cell_type": "code",
   "execution_count": 9,
   "id": "5f602f1e",
   "metadata": {},
   "outputs": [
    {
     "name": "stdout",
     "output_type": "stream",
     "text": [
      "<class 'pandas.core.frame.DataFrame'>\n",
      "RangeIndex: 614 entries, 0 to 613\n",
      "Data columns (total 13 columns):\n",
      " #   Column             Non-Null Count  Dtype  \n",
      "---  ------             --------------  -----  \n",
      " 0   Loan_ID            614 non-null    object \n",
      " 1   Gender             601 non-null    object \n",
      " 2   Married            611 non-null    object \n",
      " 3   Dependents         599 non-null    object \n",
      " 4   Education          614 non-null    object \n",
      " 5   Self_Employed      582 non-null    object \n",
      " 6   ApplicantIncome    614 non-null    int64  \n",
      " 7   CoapplicantIncome  614 non-null    float64\n",
      " 8   LoanAmount         592 non-null    float64\n",
      " 9   Loan_Amount_Term   600 non-null    float64\n",
      " 10  Credit_History     564 non-null    float64\n",
      " 11  Property_Area      614 non-null    object \n",
      " 12  Loan_Status        614 non-null    object \n",
      "dtypes: float64(4), int64(1), object(8)\n",
      "memory usage: 62.5+ KB\n"
     ]
    }
   ],
   "source": [
    "df.info()# loan_status is target variable is a object so classification be used"
   ]
  },
  {
   "cell_type": "markdown",
   "id": "eaaf285c",
   "metadata": {},
   "source": [
    "# Data Analysis"
   ]
  },
  {
   "cell_type": "code",
   "execution_count": 20,
   "id": "27dcb066",
   "metadata": {},
   "outputs": [
    {
     "data": {
      "text/plain": [
       "Loan_ID              614\n",
       "Gender                 2\n",
       "Married                2\n",
       "Dependents             4\n",
       "Education              2\n",
       "Self_Employed          2\n",
       "ApplicantIncome      505\n",
       "CoapplicantIncome    287\n",
       "LoanAmount           204\n",
       "Loan_Amount_Term      11\n",
       "Credit_History         3\n",
       "Property_Area          3\n",
       "Loan_Status            2\n",
       "dtype: int64"
      ]
     },
     "execution_count": 20,
     "metadata": {},
     "output_type": "execute_result"
    }
   ],
   "source": [
    "df.nunique()#unique values present in the each value"
   ]
  },
  {
   "cell_type": "code",
   "execution_count": 21,
   "id": "75095499",
   "metadata": {},
   "outputs": [
    {
     "name": "stdout",
     "output_type": "stream",
     "text": [
      "LP001002    1\n",
      "LP002328    1\n",
      "LP002305    1\n",
      "LP002308    1\n",
      "LP002314    1\n",
      "           ..\n",
      "LP001692    1\n",
      "LP001693    1\n",
      "LP001698    1\n",
      "LP001699    1\n",
      "LP002990    1\n",
      "Name: Loan_ID, Length: 614, dtype: int64\n",
      "---------------\n",
      "Male      502\n",
      "Female    112\n",
      "Name: Gender, dtype: int64\n",
      "---------------\n",
      "Yes    401\n",
      "No     213\n",
      "Name: Married, dtype: int64\n",
      "---------------\n",
      "0     360\n",
      "1     102\n",
      "2     101\n",
      "3+     51\n",
      "Name: Dependents, dtype: int64\n",
      "---------------\n",
      "Graduate        480\n",
      "Not Graduate    134\n",
      "Name: Education, dtype: int64\n",
      "---------------\n",
      "No     532\n",
      "Yes     82\n",
      "Name: Self_Employed, dtype: int64\n",
      "---------------\n",
      "2500    9\n",
      "4583    6\n",
      "6000    6\n",
      "2600    6\n",
      "3333    5\n",
      "       ..\n",
      "3244    1\n",
      "4408    1\n",
      "3917    1\n",
      "3992    1\n",
      "7583    1\n",
      "Name: ApplicantIncome, Length: 505, dtype: int64\n",
      "---------------\n",
      "0.0       273\n",
      "2500.0      5\n",
      "2083.0      5\n",
      "1666.0      5\n",
      "2250.0      3\n",
      "         ... \n",
      "2791.0      1\n",
      "1010.0      1\n",
      "1695.0      1\n",
      "2598.0      1\n",
      "240.0       1\n",
      "Name: CoapplicantIncome, Length: 287, dtype: int64\n",
      "---------------\n",
      "146.412162    22\n",
      "120.000000    20\n",
      "110.000000    17\n",
      "100.000000    15\n",
      "160.000000    12\n",
      "              ..\n",
      "240.000000     1\n",
      "214.000000     1\n",
      "59.000000      1\n",
      "166.000000     1\n",
      "253.000000     1\n",
      "Name: LoanAmount, Length: 204, dtype: int64\n",
      "---------------\n",
      "360.0    512\n",
      "180.0     44\n",
      "480.0     15\n",
      "342.0     14\n",
      "300.0     13\n",
      "240.0      4\n",
      "84.0       4\n",
      "120.0      3\n",
      "60.0       2\n",
      "36.0       2\n",
      "12.0       1\n",
      "Name: Loan_Amount_Term, dtype: int64\n",
      "---------------\n",
      "1.000000    475\n",
      "0.000000     89\n",
      "0.842199     50\n",
      "Name: Credit_History, dtype: int64\n",
      "---------------\n",
      "Semiurban    233\n",
      "Urban        202\n",
      "Rural        179\n",
      "Name: Property_Area, dtype: int64\n",
      "---------------\n",
      "Y    422\n",
      "N    192\n",
      "Name: Loan_Status, dtype: int64\n",
      "---------------\n"
     ]
    }
   ],
   "source": [
    "# checking valuea counts of each column\n",
    "\n",
    "for i in df.columns:\n",
    "    print(df[i].value_counts())\n",
    "    print('---------------')"
   ]
  },
  {
   "cell_type": "markdown",
   "id": "d3ad92fc",
   "metadata": {},
   "source": [
    "# Exploratory Data Analysis"
   ]
  },
  {
   "cell_type": "code",
   "execution_count": 11,
   "id": "2b83372a",
   "metadata": {},
   "outputs": [
    {
     "data": {
      "text/plain": [
       "<AxesSubplot:>"
      ]
     },
     "execution_count": 11,
     "metadata": {},
     "output_type": "execute_result"
    },
    {
     "data": {
      "image/png": "[encoded data removed]",
      "text/plain": [
       "<Figure size 432x288 with 2 Axes>"
      ]
     },
     "metadata": {
      "needs_background": "light"
     },
     "output_type": "display_data"
    }
   ],
   "source": [
    "sns.heatmap(df.isnull())"
   ]
  },
  {
   "cell_type": "markdown",
   "id": "bfe7ea29",
   "metadata": {},
   "source": [
    "It’s clearly visible that there are too many null values present in the dataset."
   ]
  },
  {
   "cell_type": "code",
   "execution_count": 14,
   "id": "555ad9b7",
   "metadata": {},
   "outputs": [],
   "source": [
    "#Replacing null values of object column with mode of it.\n",
    "import numpy as np\n",
    "collist=df.columns.values\n",
    "for i in range(0,len(collist)):\n",
    "    if df[collist[i]].dtype == \"object\":\n",
    "        df[collist[i]].fillna(df[collist[i]].mode()[0], inplace=True)\n",
    "        \n",
    "        \n",
    "#Replacing non object values i.e. int64 and float64 null values with mean of it.\n",
    "import numpy as np\n",
    "collist=df.columns.values\n",
    "for i in range(0,len(collist)):\n",
    "    if df[collist[i]].dtype != \"object\":\n",
    "        df[collist[i]].fillna(df[collist[i]].mean(), inplace=True)        "
   ]
  },
  {
   "cell_type": "code",
   "execution_count": 16,
   "id": "02bf5441",
   "metadata": {},
   "outputs": [
    {
     "data": {
      "text/plain": [
       "<AxesSubplot:>"
      ]
     },
     "execution_count": 16,
     "metadata": {},
     "output_type": "execute_result"
    },
    {
     "data": {
      "image/png": "[encoded data removed]",
      "text/plain": [
       "<Figure size 432x288 with 2 Axes>"
      ]
     },
     "metadata": {
      "needs_background": "light"
     },
     "output_type": "display_data"
    }
   ],
   "source": [
    "# checking null values\n",
    "sns.heatmap(df.isnull())"
   ]
  },
  {
   "cell_type": "code",
   "execution_count": null,
   "id": "23eadbf3",
   "metadata": {},
   "outputs": [],
   "source": [
    "Abvoe map shows that all null values removed"
   ]
  },
  {
   "cell_type": "code",
   "execution_count": 17,
   "id": "0c001430",
   "metadata": {},
   "outputs": [
    {
     "data": {
      "image/png": "[encoded data removed]",
      "text/plain": [
       "<Figure size 720x360 with 1 Axes>"
      ]
     },
     "metadata": {
      "needs_background": "light"
     },
     "output_type": "display_data"
    }
   ],
   "source": [
    "plt.figure(figsize = (10,5))\n",
    "sns.countplot(x=\"Loan_Status\",data=df)\n",
    "plt.title(\"Loan Yes vs No\", fontsize = 20)\n",
    "\n",
    "plt.show()"
   ]
  },
  {
   "cell_type": "markdown",
   "id": "6e9b4909",
   "metadata": {},
   "source": [
    "here we can see less than 50% application loan not approved"
   ]
  },
  {
   "cell_type": "code",
   "execution_count": 18,
   "id": "970f61be",
   "metadata": {},
   "outputs": [
    {
     "data": {
      "image/png": "[encoded data removed]",
      "text/plain": [
       "<Figure size 720x360 with 1 Axes>"
      ]
     },
     "metadata": {
      "needs_background": "light"
     },
     "output_type": "display_data"
    }
   ],
   "source": [
    "plt.figure(figsize = (10,5))\n",
    "sns.countplot(x=\"Gender\",data=df)\n",
    "plt.title(\"Male vs Female\", fontsize = 20)\n",
    "\n",
    "plt.show()"
   ]
  },
  {
   "cell_type": "markdown",
   "id": "29614a60",
   "metadata": {},
   "source": [
    "Male applicants are more than female"
   ]
  },
  {
   "cell_type": "code",
   "execution_count": 19,
   "id": "78936121",
   "metadata": {},
   "outputs": [
    {
     "data": {
      "image/png": "[encoded data removed]",
      "text/plain": [
       "<Figure size 720x360 with 1 Axes>"
      ]
     },
     "metadata": {
      "needs_background": "light"
     },
     "output_type": "display_data"
    }
   ],
   "source": [
    "plt.figure(figsize = (10,5))\n",
    "sns.countplot(x=\"Married\",data=df)\n",
    "plt.title(\"Married vs Not Married\", fontsize = 20)\n",
    "\n",
    "plt.show()"
   ]
  },
  {
   "cell_type": "markdown",
   "id": "d9d83990",
   "metadata": {},
   "source": [
    "married applicants are more"
   ]
  },
  {
   "cell_type": "code",
   "execution_count": 22,
   "id": "3e5a2e98",
   "metadata": {},
   "outputs": [
    {
     "data": {
      "image/png": "[encoded data removed]",
      "text/plain": [
       "<Figure size 720x360 with 1 Axes>"
      ]
     },
     "metadata": {
      "needs_background": "light"
     },
     "output_type": "display_data"
    }
   ],
   "source": [
    "plt.figure(figsize = (10,5))\n",
    "sns.countplot(x=\"Dependents\",data=df)\n",
    "plt.title(\"Married vs Not Married\", fontsize = 20)\n",
    "\n",
    "plt.show()"
   ]
  },
  {
   "cell_type": "markdown",
   "id": "d2b4658a",
   "metadata": {},
   "source": [
    "No dependents applied loan most, bachulors"
   ]
  },
  {
   "cell_type": "code",
   "execution_count": 24,
   "id": "6678b6c4",
   "metadata": {},
   "outputs": [
    {
     "data": {
      "image/png": "[encoded data removed]",
      "text/plain": [
       "<Figure size 720x360 with 1 Axes>"
      ]
     },
     "metadata": {
      "needs_background": "light"
     },
     "output_type": "display_data"
    }
   ],
   "source": [
    "plt.figure(figsize = (10,5))\n",
    "sns.countplot(x=\"Education\",data=df)\n",
    "plt.title(\"Graduate vs Non Graduate\", fontsize = 20)\n",
    "\n",
    "plt.show()"
   ]
  },
  {
   "cell_type": "code",
   "execution_count": 26,
   "id": "b4c04afc",
   "metadata": {},
   "outputs": [],
   "source": [
    "# Graduate people applied for loan most"
   ]
  },
  {
   "cell_type": "code",
   "execution_count": 27,
   "id": "28c891ab",
   "metadata": {},
   "outputs": [
    {
     "data": {
      "image/png": "[encoded data removed]",
      "text/plain": [
       "<Figure size 720x360 with 1 Axes>"
      ]
     },
     "metadata": {
      "needs_background": "light"
     },
     "output_type": "display_data"
    }
   ],
   "source": [
    "plt.figure(figsize = (10,5))\n",
    "sns.countplot(x=\"Self_Employed\",data=df)\n",
    "plt.title(\"Self Employed or not\", fontsize = 20) \n",
    "\n",
    "plt.show()"
   ]
  },
  {
   "cell_type": "markdown",
   "id": "07c1a2e6",
   "metadata": {},
   "source": [
    "Those persons who are not self employed apply fpr loan most"
   ]
  },
  {
   "cell_type": "code",
   "execution_count": 28,
   "id": "a3e27edb",
   "metadata": {},
   "outputs": [
    {
     "data": {
      "text/plain": [
       "Text(0.5, 1.0, 'Property Area Type')"
      ]
     },
     "execution_count": 28,
     "metadata": {},
     "output_type": "execute_result"
    },
    {
     "data": {
      "image/png": "[encoded data removed]",
      "text/plain": [
       "<Figure size 720x360 with 1 Axes>"
      ]
     },
     "metadata": {
      "needs_background": "light"
     },
     "output_type": "display_data"
    }
   ],
   "source": [
    "plt.figure(figsize = (10,5))\n",
    "sns.countplot(x=\"Property_Area\",data=df)\n",
    "plt.title(\"Property Area Type\", fontsize = 20) \n"
   ]
  },
  {
   "cell_type": "code",
   "execution_count": null,
   "id": "75c5d22b",
   "metadata": {},
   "outputs": [],
   "source": [
    "Semiurban applied for loan most"
   ]
  },
  {
   "cell_type": "code",
   "execution_count": 37,
   "id": "dcca2934",
   "metadata": {},
   "outputs": [
    {
     "data": {
      "image/png": "[encoded data removed]",
      "text/plain": [
       "<Figure size 1440x360 with 3 Axes>"
      ]
     },
     "metadata": {
      "needs_background": "light"
     },
     "output_type": "display_data"
    }
   ],
   "source": [
    "Label_list = ['ApplicantIncome', 'CoapplicantIncome', 'LoanAmount']\n",
    "fig,axes = plt.subplots(1,3,figsize=(20,5)) #size of plot\n",
    "for i,cat_col in enumerate(label_list):\n",
    "      sns.boxplot(y=cat_col,data=df ,x='Loan_Status',ax=axes[i])\n",
    "plt.subplots_adjust(hspace=1) #plotting the graph"
   ]
  },
  {
   "cell_type": "markdown",
   "id": "b57ddc26",
   "metadata": {},
   "source": [
    "Applicant income, co-applicant income and loan amount for all 3 things amount doen't matter"
   ]
  },
  {
   "cell_type": "code",
   "execution_count": 41,
   "id": "9395c003",
   "metadata": {},
   "outputs": [],
   "source": [
    "#Dropping Loan _id\n",
    "df.drop('Loan_ID',axis=1,inplace=True)"
   ]
  },
  {
   "cell_type": "markdown",
   "id": "72dd5608",
   "metadata": {},
   "source": [
    "# Pre-Processing pipeline"
   ]
  },
  {
   "cell_type": "markdown",
   "id": "f5b49131",
   "metadata": {},
   "source": [
    "Removing Skewness"
   ]
  },
  {
   "cell_type": "code",
   "execution_count": 42,
   "id": "55d2cda1",
   "metadata": {},
   "outputs": [
    {
     "data": {
      "text/plain": [
       "ApplicantIncome      6.539513\n",
       "CoapplicantIncome    7.491531\n",
       "LoanAmount           2.726601\n",
       "Loan_Amount_Term    -2.389680\n",
       "Credit_History      -1.963600\n",
       "dtype: float64"
      ]
     },
     "execution_count": 42,
     "metadata": {},
     "output_type": "execute_result"
    }
   ],
   "source": [
    "df.skew()"
   ]
  },
  {
   "cell_type": "markdown",
   "id": "182de9f7",
   "metadata": {},
   "source": [
    "Skewness of these columns are too high,lets reduce skewness using powertransformer"
   ]
  },
  {
   "cell_type": "code",
   "execution_count": 43,
   "id": "9be80c16",
   "metadata": {},
   "outputs": [
    {
     "ename": "TypeError",
     "evalue": "'DataFrame' object is not callable",
     "output_type": "error",
     "traceback": [
      "\u001b[1;31m---------------------------------------------------------------------------\u001b[0m",
      "\u001b[1;31mTypeError\u001b[0m                                 Traceback (most recent call last)",
      "\u001b[1;32mC:\\Users\\AJAYMA~1\\AppData\\Local\\Temp/ipykernel_9772/1024349475.py\u001b[0m in \u001b[0;36m<module>\u001b[1;34m\u001b[0m\n\u001b[0;32m      2\u001b[0m \u001b[0mPT\u001b[0m\u001b[1;33m=\u001b[0m\u001b[0mPowerTransformer\u001b[0m\u001b[1;33m(\u001b[0m\u001b[1;33m)\u001b[0m\u001b[1;33m\u001b[0m\u001b[1;33m\u001b[0m\u001b[0m\n\u001b[0;32m      3\u001b[0m \u001b[1;32mfor\u001b[0m \u001b[0mi\u001b[0m \u001b[1;32min\u001b[0m \u001b[0mdf\u001b[0m\u001b[1;33m.\u001b[0m\u001b[0mcolumns\u001b[0m\u001b[1;33m:\u001b[0m\u001b[1;33m\u001b[0m\u001b[1;33m\u001b[0m\u001b[0m\n\u001b[1;32m----> 4\u001b[1;33m     \u001b[1;32mif\u001b[0m \u001b[0mdf\u001b[0m\u001b[1;33m(\u001b[0m\u001b[0mi\u001b[0m\u001b[1;33m)\u001b[0m\u001b[1;33m.\u001b[0m\u001b[0mdtype\u001b[0m \u001b[1;33m!=\u001b[0m \u001b[1;34m\"object\"\u001b[0m\u001b[1;33m:\u001b[0m\u001b[1;33m\u001b[0m\u001b[1;33m\u001b[0m\u001b[0m\n\u001b[0m\u001b[0;32m      5\u001b[0m         \u001b[1;32mif\u001b[0m\u001b[1;33m(\u001b[0m\u001b[1;33m(\u001b[0m\u001b[0mlen\u001b[0m\u001b[1;33m(\u001b[0m\u001b[0mpd\u001b[0m\u001b[1;33m.\u001b[0m\u001b[0munique\u001b[0m\u001b[1;33m(\u001b[0m\u001b[0mdf\u001b[0m\u001b[1;33m[\u001b[0m\u001b[0mi\u001b[0m\u001b[1;33m]\u001b[0m\u001b[1;33m)\u001b[0m\u001b[1;33m)\u001b[0m\u001b[1;33m)\u001b[0m \u001b[1;33m>\u001b[0m \u001b[1;36m3\u001b[0m\u001b[1;33m)\u001b[0m\u001b[1;33m:\u001b[0m\u001b[1;33m\u001b[0m\u001b[1;33m\u001b[0m\u001b[0m\n\u001b[0;32m      6\u001b[0m             \u001b[1;32mif\u001b[0m \u001b[0mabs\u001b[0m\u001b[1;33m(\u001b[0m\u001b[0mdf\u001b[0m\u001b[1;33m.\u001b[0m\u001b[0mloc\u001b[0m\u001b[1;33m[\u001b[0m\u001b[1;33m:\u001b[0m\u001b[1;33m,\u001b[0m\u001b[0mi\u001b[0m\u001b[1;33m]\u001b[0m\u001b[1;33m.\u001b[0m\u001b[0mskew\u001b[0m\u001b[1;33m(\u001b[0m\u001b[1;33m)\u001b[0m\u001b[1;33m)\u001b[0m \u001b[1;33m>\u001b[0m \u001b[1;36m0.55\u001b[0m\u001b[1;33m:\u001b[0m\u001b[1;33m\u001b[0m\u001b[1;33m\u001b[0m\u001b[0m\n",
      "\u001b[1;31mTypeError\u001b[0m: 'DataFrame' object is not callable"
     ]
    }
   ],
   "source": [
    "from sklearn.preprocessing import PowerTransformer\n",
    "PT=PowerTransformer()\n",
    "for i in df.columns:\n",
    "    if df(i).dtype != \"object\":\n",
    "        if((len(pd.unique(df[i]))) > 3):\n",
    "            if abs(df.loc[:,i].skew()) > 0.55:\n",
    "                df.loc[:,i]=PT.fit_transform(df.loc[:,i].values.reshape(-1,1))\n",
    "                                                                    "
   ]
  },
  {
   "cell_type": "code",
   "execution_count": 44,
   "id": "273c22bd",
   "metadata": {},
   "outputs": [],
   "source": [
    "from sklearn.preprocessing import PowerTransformer\n",
    "PT=PowerTransformer()\n",
    "for i in df.columns:\n",
    "    if df[i].dtype != \"object\":\n",
    "        if ((len(pd.unique(df[i]))) > 3):\n",
    "            if abs(df.loc[:,i].skew())>0.55:\n",
    "                   df.loc[:,i]=PT.fit_transform(df.loc[:,i].values.reshape(-1,1))"
   ]
  },
  {
   "cell_type": "markdown",
   "id": "b5af13ac",
   "metadata": {},
   "source": [
    "# Label Encoding"
   ]
  },
  {
   "cell_type": "markdown",
   "id": "dff7c37f",
   "metadata": {},
   "source": [
    "Lets perform label encoding to convert object type columns into numeric type"
   ]
  },
  {
   "cell_type": "code",
   "execution_count": 53,
   "id": "1b0d9737",
   "metadata": {},
   "outputs": [],
   "source": [
    "label_list = list(df.select_dtypes(['object']).columns)\n",
    "from sklearn.preprocessing import LabelEncoder\n",
    "le= LabelEncoder()\n",
    "for i in Label_list:\n",
    "    df[i]  = le.fit_transform(df[i])"
   ]
  },
  {
   "cell_type": "code",
   "execution_count": 54,
   "id": "7d256668",
   "metadata": {},
   "outputs": [
    {
     "data": {
      "text/html": [
       "<div>\n",
       "<style scoped>\n",
       "    .dataframe tbody tr th:only-of-type {\n",
       "        vertical-align: middle;\n",
       "    }\n",
       "\n",
       "    .dataframe tbody tr th {\n",
       "        vertical-align: top;\n",
       "    }\n",
       "\n",
       "    .dataframe thead th {\n",
       "        text-align: right;\n",
       "    }\n",
       "</style>\n",
       "<table border=\"1\" class=\"dataframe\">\n",
       "  <thead>\n",
       "    <tr style=\"text-align: right;\">\n",
       "      <th></th>\n",
       "      <th>Gender</th>\n",
       "      <th>Married</th>\n",
       "      <th>Dependents</th>\n",
       "      <th>Education</th>\n",
       "      <th>Self_Employed</th>\n",
       "      <th>ApplicantIncome</th>\n",
       "      <th>CoapplicantIncome</th>\n",
       "      <th>LoanAmount</th>\n",
       "      <th>Loan_Amount_Term</th>\n",
       "      <th>Credit_History</th>\n",
       "      <th>Property_Area</th>\n",
       "      <th>Loan_Status</th>\n",
       "    </tr>\n",
       "  </thead>\n",
       "  <tbody>\n",
       "    <tr>\n",
       "      <th>0</th>\n",
       "      <td>1</td>\n",
       "      <td>0</td>\n",
       "      <td>0</td>\n",
       "      <td>0</td>\n",
       "      <td>0</td>\n",
       "      <td>376</td>\n",
       "      <td>0</td>\n",
       "      <td>100</td>\n",
       "      <td>0.185905</td>\n",
       "      <td>1.0</td>\n",
       "      <td>2</td>\n",
       "      <td>1</td>\n",
       "    </tr>\n",
       "    <tr>\n",
       "      <th>1</th>\n",
       "      <td>1</td>\n",
       "      <td>1</td>\n",
       "      <td>1</td>\n",
       "      <td>0</td>\n",
       "      <td>0</td>\n",
       "      <td>306</td>\n",
       "      <td>60</td>\n",
       "      <td>81</td>\n",
       "      <td>0.185905</td>\n",
       "      <td>1.0</td>\n",
       "      <td>0</td>\n",
       "      <td>0</td>\n",
       "    </tr>\n",
       "    <tr>\n",
       "      <th>2</th>\n",
       "      <td>1</td>\n",
       "      <td>1</td>\n",
       "      <td>0</td>\n",
       "      <td>0</td>\n",
       "      <td>1</td>\n",
       "      <td>139</td>\n",
       "      <td>0</td>\n",
       "      <td>26</td>\n",
       "      <td>0.185905</td>\n",
       "      <td>1.0</td>\n",
       "      <td>2</td>\n",
       "      <td>1</td>\n",
       "    </tr>\n",
       "    <tr>\n",
       "      <th>3</th>\n",
       "      <td>1</td>\n",
       "      <td>1</td>\n",
       "      <td>0</td>\n",
       "      <td>1</td>\n",
       "      <td>0</td>\n",
       "      <td>90</td>\n",
       "      <td>160</td>\n",
       "      <td>73</td>\n",
       "      <td>0.185905</td>\n",
       "      <td>1.0</td>\n",
       "      <td>2</td>\n",
       "      <td>1</td>\n",
       "    </tr>\n",
       "    <tr>\n",
       "      <th>4</th>\n",
       "      <td>1</td>\n",
       "      <td>0</td>\n",
       "      <td>0</td>\n",
       "      <td>0</td>\n",
       "      <td>0</td>\n",
       "      <td>381</td>\n",
       "      <td>0</td>\n",
       "      <td>94</td>\n",
       "      <td>0.185905</td>\n",
       "      <td>1.0</td>\n",
       "      <td>2</td>\n",
       "      <td>1</td>\n",
       "    </tr>\n",
       "  </tbody>\n",
       "</table>\n",
       "</div>"
      ],
      "text/plain": [
       "   Gender  Married  Dependents  Education  Self_Employed  ApplicantIncome  \\\n",
       "0       1        0           0          0              0              376   \n",
       "1       1        1           1          0              0              306   \n",
       "2       1        1           0          0              1              139   \n",
       "3       1        1           0          1              0               90   \n",
       "4       1        0           0          0              0              381   \n",
       "\n",
       "   CoapplicantIncome  LoanAmount  Loan_Amount_Term  Credit_History  \\\n",
       "0                  0         100          0.185905             1.0   \n",
       "1                 60          81          0.185905             1.0   \n",
       "2                  0          26          0.185905             1.0   \n",
       "3                160          73          0.185905             1.0   \n",
       "4                  0          94          0.185905             1.0   \n",
       "\n",
       "   Property_Area  Loan_Status  \n",
       "0              2            1  \n",
       "1              0            0  \n",
       "2              2            1  \n",
       "3              2            1  \n",
       "4              2            1  "
      ]
     },
     "execution_count": 54,
     "metadata": {},
     "output_type": "execute_result"
    }
   ],
   "source": [
    "df.head()"
   ]
  },
  {
   "cell_type": "markdown",
   "id": "f0f0b531",
   "metadata": {},
   "source": [
    "Now all type of columns are numeric"
   ]
  },
  {
   "cell_type": "markdown",
   "id": "121ed31b",
   "metadata": {},
   "source": [
    "# Removing Outliers"
   ]
  },
  {
   "cell_type": "code",
   "execution_count": 57,
   "id": "a98672d6",
   "metadata": {},
   "outputs": [
    {
     "data": {
      "image/png": "[encoded data removed]",
      "text/plain": [
       "<Figure size 1440x576 with 1 Axes>"
      ]
     },
     "metadata": {
      "needs_background": "light"
     },
     "output_type": "display_data"
    }
   ],
   "source": [
    "df.boxplot(figsize=[20,8])\n",
    "plt.subplots_adjust(bottom=0.10)\n",
    "plt.show()"
   ]
  },
  {
   "cell_type": "markdown",
   "id": "7926ebc5",
   "metadata": {},
   "source": [
    "Outliers present in dataset.lets remove it"
   ]
  },
  {
   "cell_type": "code",
   "execution_count": 58,
   "id": "1537c5c2",
   "metadata": {},
   "outputs": [
    {
     "name": "stdout",
     "output_type": "stream",
     "text": [
      "(array([ 75, 109, 130, 168, 179, 228, 248, 293, 298, 358, 366, 378, 500,\n",
      "       516, 573], dtype=int64), array([8, 8, 8, 8, 8, 8, 8, 8, 8, 8, 8, 8, 8, 8, 8], dtype=int64))\n"
     ]
    }
   ],
   "source": [
    "import numpy as np\n",
    "from scipy.stats import zscore\n",
    "z=np.abs(zscore(df))\n",
    "print(np.where(z>3))"
   ]
  },
  {
   "cell_type": "code",
   "execution_count": 59,
   "id": "abc837fd",
   "metadata": {},
   "outputs": [
    {
     "name": "stdout",
     "output_type": "stream",
     "text": [
      "(614, 12)\n",
      "(599, 12)\n"
     ]
    }
   ],
   "source": [
    "# removing the outliers\n",
    "z=np.abs(zscore(df))\n",
    "threshold=3\n",
    "new_df=df[(z<3).all(axis=1)]\n",
    "print(df.shape)\n",
    "print(new_df.shape)"
   ]
  },
  {
   "cell_type": "code",
   "execution_count": 60,
   "id": "db7b1705",
   "metadata": {},
   "outputs": [
    {
     "name": "stdout",
     "output_type": "stream",
     "text": [
      "2.44299674267101\n"
     ]
    }
   ],
   "source": [
    "#checking for how much data lost\n",
    "loss_percent=(614-599)/614*100\n",
    "print(loss_percent)"
   ]
  },
  {
   "cell_type": "markdown",
   "id": "5a5e04f3",
   "metadata": {},
   "source": [
    "loss of data is only 2.5% which is not bad"
   ]
  },
  {
   "cell_type": "markdown",
   "id": "95b6c51f",
   "metadata": {},
   "source": [
    "# Building Machine Learning Models"
   ]
  },
  {
   "cell_type": "code",
   "execution_count": 61,
   "id": "316dc23c",
   "metadata": {},
   "outputs": [],
   "source": [
    "X = df.drop(\"Loan_Status\",axis=1)\n",
    "y = df[\"Loan_Status\"]"
   ]
  },
  {
   "cell_type": "markdown",
   "id": "783aa570",
   "metadata": {},
   "source": [
    "# scaling"
   ]
  },
  {
   "cell_type": "markdown",
   "id": "080d39a6",
   "metadata": {},
   "source": [
    "Scaling is required beacause there is too much difference in minimum and maximum value of columns"
   ]
  },
  {
   "cell_type": "code",
   "execution_count": 64,
   "id": "f53dc4b7",
   "metadata": {},
   "outputs": [
    {
     "data": {
      "text/html": [
       "<div>\n",
       "<style scoped>\n",
       "    .dataframe tbody tr th:only-of-type {\n",
       "        vertical-align: middle;\n",
       "    }\n",
       "\n",
       "    .dataframe tbody tr th {\n",
       "        vertical-align: top;\n",
       "    }\n",
       "\n",
       "    .dataframe thead th {\n",
       "        text-align: right;\n",
       "    }\n",
       "</style>\n",
       "<table border=\"1\" class=\"dataframe\">\n",
       "  <thead>\n",
       "    <tr style=\"text-align: right;\">\n",
       "      <th></th>\n",
       "      <th>Gender</th>\n",
       "      <th>Married</th>\n",
       "      <th>Dependents</th>\n",
       "      <th>Education</th>\n",
       "      <th>Self_Employed</th>\n",
       "      <th>ApplicantIncome</th>\n",
       "      <th>CoapplicantIncome</th>\n",
       "      <th>LoanAmount</th>\n",
       "      <th>Loan_Amount_Term</th>\n",
       "      <th>Credit_History</th>\n",
       "      <th>Property_Area</th>\n",
       "    </tr>\n",
       "  </thead>\n",
       "  <tbody>\n",
       "    <tr>\n",
       "      <th>0</th>\n",
       "      <td>1.0</td>\n",
       "      <td>0.0</td>\n",
       "      <td>0.000000</td>\n",
       "      <td>0.0</td>\n",
       "      <td>0.0</td>\n",
       "      <td>0.746032</td>\n",
       "      <td>0.000000</td>\n",
       "      <td>0.492611</td>\n",
       "      <td>0.421646</td>\n",
       "      <td>1.0</td>\n",
       "      <td>1.0</td>\n",
       "    </tr>\n",
       "    <tr>\n",
       "      <th>1</th>\n",
       "      <td>1.0</td>\n",
       "      <td>1.0</td>\n",
       "      <td>0.333333</td>\n",
       "      <td>0.0</td>\n",
       "      <td>0.0</td>\n",
       "      <td>0.607143</td>\n",
       "      <td>0.209790</td>\n",
       "      <td>0.399015</td>\n",
       "      <td>0.421646</td>\n",
       "      <td>1.0</td>\n",
       "      <td>0.0</td>\n",
       "    </tr>\n",
       "    <tr>\n",
       "      <th>2</th>\n",
       "      <td>1.0</td>\n",
       "      <td>1.0</td>\n",
       "      <td>0.000000</td>\n",
       "      <td>0.0</td>\n",
       "      <td>1.0</td>\n",
       "      <td>0.275794</td>\n",
       "      <td>0.000000</td>\n",
       "      <td>0.128079</td>\n",
       "      <td>0.421646</td>\n",
       "      <td>1.0</td>\n",
       "      <td>1.0</td>\n",
       "    </tr>\n",
       "    <tr>\n",
       "      <th>3</th>\n",
       "      <td>1.0</td>\n",
       "      <td>1.0</td>\n",
       "      <td>0.000000</td>\n",
       "      <td>1.0</td>\n",
       "      <td>0.0</td>\n",
       "      <td>0.178571</td>\n",
       "      <td>0.559441</td>\n",
       "      <td>0.359606</td>\n",
       "      <td>0.421646</td>\n",
       "      <td>1.0</td>\n",
       "      <td>1.0</td>\n",
       "    </tr>\n",
       "    <tr>\n",
       "      <th>4</th>\n",
       "      <td>1.0</td>\n",
       "      <td>0.0</td>\n",
       "      <td>0.000000</td>\n",
       "      <td>0.0</td>\n",
       "      <td>0.0</td>\n",
       "      <td>0.755952</td>\n",
       "      <td>0.000000</td>\n",
       "      <td>0.463054</td>\n",
       "      <td>0.421646</td>\n",
       "      <td>1.0</td>\n",
       "      <td>1.0</td>\n",
       "    </tr>\n",
       "  </tbody>\n",
       "</table>\n",
       "</div>"
      ],
      "text/plain": [
       "   Gender  Married  Dependents  Education  Self_Employed  ApplicantIncome  \\\n",
       "0     1.0      0.0    0.000000        0.0            0.0         0.746032   \n",
       "1     1.0      1.0    0.333333        0.0            0.0         0.607143   \n",
       "2     1.0      1.0    0.000000        0.0            1.0         0.275794   \n",
       "3     1.0      1.0    0.000000        1.0            0.0         0.178571   \n",
       "4     1.0      0.0    0.000000        0.0            0.0         0.755952   \n",
       "\n",
       "   CoapplicantIncome  LoanAmount  Loan_Amount_Term  Credit_History  \\\n",
       "0           0.000000    0.492611          0.421646             1.0   \n",
       "1           0.209790    0.399015          0.421646             1.0   \n",
       "2           0.000000    0.128079          0.421646             1.0   \n",
       "3           0.559441    0.359606          0.421646             1.0   \n",
       "4           0.000000    0.463054          0.421646             1.0   \n",
       "\n",
       "   Property_Area  \n",
       "0            1.0  \n",
       "1            0.0  \n",
       "2            1.0  \n",
       "3            1.0  \n",
       "4            1.0  "
      ]
     },
     "execution_count": 64,
     "metadata": {},
     "output_type": "execute_result"
    }
   ],
   "source": [
    "from sklearn.preprocessing import StandardScaler,MinMaxScaler\n",
    "scaler = MinMaxScaler()\n",
    "scale_X =scaler.fit_transform(X)\n",
    "scaled_X =pd.DataFrame(scale_X,index=X.index, columns=X.columns)\n",
    "X=scaled_X\n",
    "X.head()"
   ]
  },
  {
   "cell_type": "markdown",
   "id": "baa844d9",
   "metadata": {},
   "source": [
    "# Finding Best Random State"
   ]
  },
  {
   "cell_type": "code",
   "execution_count": 67,
   "id": "7d4a4e57",
   "metadata": {},
   "outputs": [
    {
     "name": "stdout",
     "output_type": "stream",
     "text": [
      "Best accuracy is 0.8432432432432433 on Random_state 1400\n",
      "Best accuracy is 0.8594594594594595 on Random_state 1401\n",
      "Best accuracy is 0.8594594594594595 on Random_state 1401\n",
      "Best accuracy is 0.8594594594594595 on Random_state 1401\n",
      "Best accuracy is 0.8594594594594595 on Random_state 1401\n",
      "Best accuracy is 0.8594594594594595 on Random_state 1401\n",
      "Best accuracy is 0.8594594594594595 on Random_state 1401\n",
      "Best accuracy is 0.8594594594594595 on Random_state 1401\n",
      "Best accuracy is 0.8594594594594595 on Random_state 1401\n",
      "Best accuracy is 0.8594594594594595 on Random_state 1401\n",
      "Best accuracy is 0.8594594594594595 on Random_state 1401\n",
      "Best accuracy is 0.8594594594594595 on Random_state 1401\n",
      "Best accuracy is 0.8594594594594595 on Random_state 1401\n",
      "Best accuracy is 0.8594594594594595 on Random_state 1401\n",
      "Best accuracy is 0.8594594594594595 on Random_state 1401\n",
      "Best accuracy is 0.8594594594594595 on Random_state 1401\n",
      "Best accuracy is 0.8594594594594595 on Random_state 1401\n",
      "Best accuracy is 0.8594594594594595 on Random_state 1401\n",
      "Best accuracy is 0.8594594594594595 on Random_state 1401\n",
      "Best accuracy is 0.8594594594594595 on Random_state 1401\n",
      "Best accuracy is 0.8594594594594595 on Random_state 1401\n",
      "Best accuracy is 0.8594594594594595 on Random_state 1401\n",
      "Best accuracy is 0.8594594594594595 on Random_state 1401\n",
      "Best accuracy is 0.8594594594594595 on Random_state 1401\n",
      "Best accuracy is 0.8810810810810811 on Random_state 1424\n",
      "Best accuracy is 0.8810810810810811 on Random_state 1424\n",
      "Best accuracy is 0.8810810810810811 on Random_state 1424\n",
      "Best accuracy is 0.8810810810810811 on Random_state 1424\n",
      "Best accuracy is 0.8810810810810811 on Random_state 1424\n",
      "Best accuracy is 0.8810810810810811 on Random_state 1424\n",
      "Best accuracy is 0.8810810810810811 on Random_state 1424\n",
      "Best accuracy is 0.8810810810810811 on Random_state 1424\n",
      "Best accuracy is 0.8810810810810811 on Random_state 1424\n",
      "Best accuracy is 0.8810810810810811 on Random_state 1424\n",
      "Best accuracy is 0.8810810810810811 on Random_state 1424\n",
      "Best accuracy is 0.8810810810810811 on Random_state 1424\n",
      "Best accuracy is 0.8810810810810811 on Random_state 1424\n",
      "Best accuracy is 0.8810810810810811 on Random_state 1424\n",
      "Best accuracy is 0.8810810810810811 on Random_state 1424\n",
      "Best accuracy is 0.8810810810810811 on Random_state 1424\n",
      "Best accuracy is 0.8810810810810811 on Random_state 1424\n",
      "Best accuracy is 0.8810810810810811 on Random_state 1424\n",
      "Best accuracy is 0.8810810810810811 on Random_state 1424\n",
      "Best accuracy is 0.8810810810810811 on Random_state 1424\n",
      "Best accuracy is 0.8810810810810811 on Random_state 1424\n",
      "Best accuracy is 0.8810810810810811 on Random_state 1424\n",
      "Best accuracy is 0.8810810810810811 on Random_state 1424\n",
      "Best accuracy is 0.8810810810810811 on Random_state 1424\n",
      "Best accuracy is 0.8810810810810811 on Random_state 1424\n",
      "Best accuracy is 0.8810810810810811 on Random_state 1424\n"
     ]
    }
   ],
   "source": [
    "from sklearn.model_selection import train_test_split\n",
    "from sklearn.linear_model import LogisticRegression\n",
    "from sklearn.metrics import accuracy_score\n",
    "from sklearn.metrics import confusion_matrix,classification_report,auc\n",
    "import warnings\n",
    "\n",
    "warnings.filterwarnings('ignore')\n",
    "maxAccu =0\n",
    "maxRs = 0\n",
    "\n",
    "for i in range(1400,1450):\n",
    "    X_train,X_test,y_train,y_test = train_test_split(X,y,test_size=.30,random_state=i)\n",
    "    LR = LogisticRegression()\n",
    "    LR.fit(X_train,y_train)\n",
    "    predrf = LR.predict(X_test)\n",
    "    acc = accuracy_score(y_test,predrf)\n",
    "    if acc>maxAccu:\n",
    "        maxAccu=acc\n",
    "        maxRS=i\n",
    "    print(\"Best accuracy is\",maxAccu,\"on Random_state\",maxRS) \n",
    "    "
   ]
  },
  {
   "cell_type": "code",
   "execution_count": null,
   "id": "114a45fa",
   "metadata": {},
   "outputs": [],
   "source": [
    "max accuracy is 0.88 on random state 1424"
   ]
  },
  {
   "cell_type": "markdown",
   "id": "e45f3ff2",
   "metadata": {},
   "source": [
    "# Train Test Split"
   ]
  },
  {
   "cell_type": "markdown",
   "id": "04a744fc",
   "metadata": {},
   "source": [
    "Splitting train and test data 70% data will be train and 30% data will be test"
   ]
  },
  {
   "cell_type": "markdown",
   "id": "a3db22b8",
   "metadata": {},
   "source": [
    "# Finding Best Algorithm"
   ]
  },
  {
   "cell_type": "markdown",
   "id": "29a429fc",
   "metadata": {},
   "source": [
    "#importing all the required to find best algorithm"
   ]
  },
  {
   "cell_type": "code",
   "execution_count": 70,
   "id": "fd187117",
   "metadata": {},
   "outputs": [
    {
     "name": "stdout",
     "output_type": "stream",
     "text": [
      "_________________________________________________________________________________\n",
      "|||||||||||||||||||||||||||||||||||||||||||||||||||||||||||||||||||||||||||||\n",
      "accuracy score of -> LogisticRegression()\n",
      "0.8540540540540541\n",
      "[[ 25  26]\n",
      " [  1 133]]\n",
      "              precision    recall  f1-score   support\n",
      "\n",
      "           0       0.96      0.49      0.65        51\n",
      "           1       0.84      0.99      0.91       134\n",
      "\n",
      "    accuracy                           0.85       185\n",
      "   macro avg       0.90      0.74      0.78       185\n",
      "weighted avg       0.87      0.85      0.84       185\n",
      "\n",
      "[0.81300813 0.77235772 0.7804878  0.85365854 0.81967213]\n",
      "0.8078368652538984\n",
      "Difference between Accuracy score and cross validation score is - 0.046217188800155684\n",
      "_________________________________________________________________________________\n",
      "|||||||||||||||||||||||||||||||||||||||||||||||||||||||||||||||||||||||||||||\n",
      "accuracy score of -> KNeighborsClassifier()\n",
      "0.8162162162162162\n",
      "[[ 24  27]\n",
      " [  7 127]]\n",
      "              precision    recall  f1-score   support\n",
      "\n",
      "           0       0.77      0.47      0.59        51\n",
      "           1       0.82      0.95      0.88       134\n",
      "\n",
      "    accuracy                           0.82       185\n",
      "   macro avg       0.80      0.71      0.73       185\n",
      "weighted avg       0.81      0.82      0.80       185\n",
      "\n",
      "[0.80487805 0.76422764 0.77235772 0.79674797 0.75409836]\n",
      "0.7784619485539118\n",
      "Difference between Accuracy score and cross validation score is - 0.037754267662304386\n",
      "_________________________________________________________________________________\n",
      "|||||||||||||||||||||||||||||||||||||||||||||||||||||||||||||||||||||||||||||\n",
      "accuracy score of -> BernoulliNB()\n",
      "0.8540540540540541\n",
      "[[ 25  26]\n",
      " [  1 133]]\n",
      "              precision    recall  f1-score   support\n",
      "\n",
      "           0       0.96      0.49      0.65        51\n",
      "           1       0.84      0.99      0.91       134\n",
      "\n",
      "    accuracy                           0.85       185\n",
      "   macro avg       0.90      0.74      0.78       185\n",
      "weighted avg       0.87      0.85      0.84       185\n",
      "\n",
      "[0.81300813 0.7804878  0.7804878  0.85365854 0.81967213]\n",
      "0.809462881514061\n",
      "Difference between Accuracy score and cross validation score is - 0.04459117253999312\n",
      "_________________________________________________________________________________\n",
      "|||||||||||||||||||||||||||||||||||||||||||||||||||||||||||||||||||||||||||||\n",
      "accuracy score of -> SVC()\n",
      "0.8540540540540541\n",
      "[[ 25  26]\n",
      " [  1 133]]\n",
      "              precision    recall  f1-score   support\n",
      "\n",
      "           0       0.96      0.49      0.65        51\n",
      "           1       0.84      0.99      0.91       134\n",
      "\n",
      "    accuracy                           0.85       185\n",
      "   macro avg       0.90      0.74      0.78       185\n",
      "weighted avg       0.87      0.85      0.84       185\n",
      "\n",
      "[0.81300813 0.7804878  0.7804878  0.85365854 0.81967213]\n",
      "0.809462881514061\n",
      "Difference between Accuracy score and cross validation score is - 0.04459117253999312\n",
      "_________________________________________________________________________________\n",
      "|||||||||||||||||||||||||||||||||||||||||||||||||||||||||||||||||||||||||||||\n",
      "accuracy score of -> DecisionTreeClassifier()\n",
      "0.7135135135135136\n",
      "[[ 26  25]\n",
      " [ 28 106]]\n",
      "              precision    recall  f1-score   support\n",
      "\n",
      "           0       0.48      0.51      0.50        51\n",
      "           1       0.81      0.79      0.80       134\n",
      "\n",
      "    accuracy                           0.71       185\n",
      "   macro avg       0.65      0.65      0.65       185\n",
      "weighted avg       0.72      0.71      0.72       185\n",
      "\n",
      "[0.70731707 0.67479675 0.73170732 0.73170732 0.7704918 ]\n",
      "0.7232040517126483\n",
      "Difference between Accuracy score and cross validation score is - -0.00969053819913479\n",
      "_________________________________________________________________________________\n",
      "|||||||||||||||||||||||||||||||||||||||||||||||||||||||||||||||||||||||||||||\n",
      "accuracy score of -> RandomForestClassifier()\n",
      "0.8108108108108109\n",
      "[[ 27  24]\n",
      " [ 11 123]]\n",
      "              precision    recall  f1-score   support\n",
      "\n",
      "           0       0.71      0.53      0.61        51\n",
      "           1       0.84      0.92      0.88       134\n",
      "\n",
      "    accuracy                           0.81       185\n",
      "   macro avg       0.77      0.72      0.74       185\n",
      "weighted avg       0.80      0.81      0.80       185\n",
      "\n",
      "[0.79674797 0.7398374  0.77235772 0.78861789 0.80327869]\n",
      "0.7801679328268692\n",
      "Difference between Accuracy score and cross validation score is - 0.030642877983941608\n"
     ]
    }
   ],
   "source": [
    "from sklearn.naive_bayes import BernoulliNB\n",
    "from sklearn.svm import SVC\n",
    "from sklearn.tree import DecisionTreeClassifier\n",
    "from sklearn.neighbors import KNeighborsClassifier\n",
    "from sklearn.ensemble import RandomForestClassifier\n",
    "from sklearn.model_selection import cross_val_score\n",
    "\n",
    "model=[LogisticRegression(),KNeighborsClassifier(),BernoulliNB(),SVC(),DecisionTreeClassifier(),RandomForestClassifier()]\n",
    "for m in model:\n",
    "    m.fit(X_train,y_train)\n",
    "    pred=m.predict(X_test)\n",
    "    print(\"_________________________________________________________________________________\")\n",
    "    \n",
    "    print(\"|||||||||||||||||||||||||||||||||||||||||||||||||||||||||||||||||||||||||||||\")\n",
    "    print('accuracy score of ->',m)\n",
    "    print(accuracy_score(y_test,pred))\n",
    "    print(confusion_matrix(y_test,pred))\n",
    "    print(classification_report(y_test,pred))\n",
    "    score=cross_val_score(m,X,y,cv=5)\n",
    "    print(score)\n",
    "    print(score.mean())\n",
    "    print(\"Difference between Accuracy score and cross validation score is -\",accuracy_score(y_test,pred)-score.mean())\n",
    "    "
   ]
  },
  {
   "cell_type": "markdown",
   "id": "fd9f9872",
   "metadata": {},
   "source": [
    "Random forest classifier have highest accuracy more than 80% and the difference between cross validation score and accuracy score it less. so random forest classifier will be used here to learn model"
   ]
  },
  {
   "cell_type": "markdown",
   "id": "5b6d3e7d",
   "metadata": {},
   "source": [
    "# Hyper Parameter Tuning"
   ]
  },
  {
   "cell_type": "markdown",
   "id": "2f742bb7",
   "metadata": {},
   "source": [
    "Performing hyper parameter tuning to get good and more accurate result from the model"
   ]
  },
  {
   "cell_type": "code",
   "execution_count": 71,
   "id": "78855774",
   "metadata": {},
   "outputs": [
    {
     "data": {
      "text/plain": [
       "{'min_samples_leaf': 6, 'max_features': 3, 'max_depth': 9}"
      ]
     },
     "execution_count": 71,
     "metadata": {},
     "output_type": "execute_result"
    }
   ],
   "source": [
    "from sklearn.model_selection import RandomizedSearchCV\n",
    "\n",
    "parameters = {\"max_depth\":[1,2,3,4,5,6,7,8,9,10,15,20],\"max_features\":[3,5,7,9],\"min_samples_leaf\":[2,3,4,5,6]}\n",
    "\n",
    "clf = RandomizedSearchCV(RandomForestClassifier(),parameters)\n",
    "clf.fit(X_train,y_train)\n",
    "clf.best_params_"
   ]
  },
  {
   "cell_type": "code",
   "execution_count": 72,
   "id": "0d4dbaac",
   "metadata": {},
   "outputs": [
    {
     "data": {
      "text/plain": [
       "0.8540540540540541"
      ]
     },
     "execution_count": 72,
     "metadata": {},
     "output_type": "execute_result"
    }
   ],
   "source": [
    "clf_pred=clf.best_estimator_.predict(X_test)# predicting result based on test based\n",
    "\n",
    "accuracy_score(y_test,clf_pred)"
   ]
  },
  {
   "cell_type": "markdown",
   "id": "f8cae67b",
   "metadata": {},
   "source": [
    "model learnt almost 85%"
   ]
  },
  {
   "cell_type": "code",
   "execution_count": 73,
   "id": "e5d34fbf",
   "metadata": {},
   "outputs": [
    {
     "name": "stdout",
     "output_type": "stream",
     "text": [
      "0.8540540540540541\n",
      "[[ 25  26]\n",
      " [  1 133]]\n",
      "              precision    recall  f1-score   support\n",
      "\n",
      "           0       0.96      0.49      0.65        51\n",
      "           1       0.84      0.99      0.91       134\n",
      "\n",
      "    accuracy                           0.85       185\n",
      "   macro avg       0.90      0.74      0.78       185\n",
      "weighted avg       0.87      0.85      0.84       185\n",
      "\n"
     ]
    }
   ],
   "source": [
    "print(accuracy_score(y_test,clf_pred))\n",
    "print(confusion_matrix(y_test,clf_pred))\n",
    "print(classification_report(y_test,clf_pred))"
   ]
  },
  {
   "cell_type": "markdown",
   "id": "ff5884c6",
   "metadata": {},
   "source": [
    "# AUC ROC curve"
   ]
  },
  {
   "cell_type": "markdown",
   "id": "9244c6a7",
   "metadata": {},
   "source": [
    "plotting AUC ROC curve to see the false positive rate and true positive rate"
   ]
  },
  {
   "cell_type": "code",
   "execution_count": 75,
   "id": "bf4d9ada",
   "metadata": {},
   "outputs": [
    {
     "data": {
      "image/png": "[encoded data removed]",
      "text/plain": [
       "<Figure size 720x648 with 1 Axes>"
      ]
     },
     "metadata": {
      "needs_background": "light"
     },
     "output_type": "display_data"
    }
   ],
   "source": [
    "from sklearn.metrics import roc_curve,auc\n",
    "import matplotlib.pyplot as plt\n",
    "fpr,tpr,thresholds = roc_curve(y_test,clf_pred)# caliculating fpr ,tpr\n",
    "rf_auc = auc(fpr,tpr)\n",
    "plt.figure(figsize = (10,9))\n",
    "plt.plot(fpr,tpr,label='AUC:%0.2f% rf_auc')\n",
    "plt.plot([1,0],[1,0],linestyle = '--')\n",
    "plt.legend(loc=0)\n",
    "plt.xlabel('False positive rate')\n",
    "plt.ylabel('true positve rate')\n",
    "plt.grid()# adding grid lines"
   ]
  },
  {
   "cell_type": "code",
   "execution_count": null,
   "id": "d074a0d3",
   "metadata": {},
   "outputs": [],
   "source": [
    "Saving the model"
   ]
  },
  {
   "cell_type": "code",
   "execution_count": 77,
   "id": "07418d29",
   "metadata": {},
   "outputs": [
    {
     "data": {
      "text/plain": [
       "array([1, 0, 1, 1, 1, 1, 0, 1, 0, 1, 0, 1, 1, 1, 1, 1, 1, 1, 1, 1, 1, 1,\n",
       "       1, 1, 1, 0, 1, 1, 0, 1, 1, 1, 0, 1, 1, 1, 1, 1, 1, 1, 1, 1, 1, 1,\n",
       "       1, 1, 1, 1, 1, 1, 1, 1, 0, 1, 1, 1, 1, 0, 1, 1, 1, 1, 1, 1, 1, 1,\n",
       "       0, 1, 1, 0, 0, 1, 1, 1, 1, 1, 1, 0, 1, 1, 1, 1, 1, 1, 1, 1, 1, 1,\n",
       "       1, 1, 1, 1, 1, 1, 0, 1, 1, 1, 1, 1, 0, 1, 1, 0, 1, 0, 1, 0, 1, 1,\n",
       "       1, 1, 0, 1, 1, 1, 1, 1, 1, 1, 0, 1, 0, 1, 1, 1, 1, 1, 1, 1, 1, 1,\n",
       "       1, 1, 1, 1, 1, 1, 1, 1, 1, 1, 1, 1, 1, 1, 1, 1, 0, 1, 1, 1, 1, 1,\n",
       "       1, 1, 1, 1, 1, 1, 1, 1, 1, 1, 1, 1, 1, 1, 1, 1, 0, 0, 1, 1, 1, 1,\n",
       "       1, 1, 1, 0, 1, 0, 1, 1, 1])"
      ]
     },
     "execution_count": 77,
     "metadata": {},
     "output_type": "execute_result"
    }
   ],
   "source": [
    "import joblib\n",
    "joblib.dump(clf.best_estimator_,\"Loan.obj\")\n",
    "SVR_from_joblib=joblib.load(\"Loan.obj\")\n",
    "Predicted = SVR_from_joblib.predict(X_test)\n",
    "Predicted"
   ]
  },
  {
   "cell_type": "markdown",
   "id": "b31cb0d8",
   "metadata": {},
   "source": [
    "In this case study, a Machine Learning model is developed to predict, whether loan should be approved or not. Here several features were mined from the dataset and combined together with the help of Machine Leaning, to do the loan application status prediction. With the help of the above techniques, proposed model is able to predict the status of the load with an accuracy score of 87%. However, there is still ways to do improvement in this model.\n",
    "In the future, our model can be predict the status of the loan more accurately."
   ]
  }
 ],
 "metadata": {
  "kernelspec": {
   "display_name": "Python 3 (ipykernel)",
   "language": "python",
   "name": "python3"
  },
  "language_info": {
   "codemirror_mode": {
    "name": "ipython",
    "version": 3
   },
   "file_extension": ".py",
   "mimetype": "text/x-python",
   "name": "python",
   "nbconvert_exporter": "python",
   "pygments_lexer": "ipython3",
   "version": "3.9.7"
  }
 },
 "nbformat": 4,
 "nbformat_minor": 5
}
